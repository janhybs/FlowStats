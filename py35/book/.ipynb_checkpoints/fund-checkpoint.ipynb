{
 "cells": [
  {
   "cell_type": "markdown",
   "metadata": {
    "collapsed": true
   },
   "source": [
    "# Selected methods in mathematical statistics - fundaments"
   ]
  },
  {
   "cell_type": "code",
   "execution_count": null,
   "metadata": {
    "collapsed": false
   },
   "outputs": [],
   "source": [
    "import sys, os; sys.path.append(os.path.abspath(os.path.join(os.getcwd(), '..')))\n",
    "import numpy as np\n",
    "import matplotlib.mlab as mlab\n",
    "import matplotlib.pyplot as plt\n",
    "%precision 4\n",
    "%matplotlib inline\n",
    "# %matplotlib notebook"
   ]
  },
  {
   "cell_type": "markdown",
   "metadata": {
    "collapsed": true
   },
   "source": [
    "## Mean value (průměr)\n",
    "- Mean is sum of the sampled values divided by the number of items in the sample \n",
    "- $\\mu$ refers to a population mean and $\\bar{x}$, to a sample mean.\n",
    "\n",
    "(Arithmetic mean) $$\\mu = \\frac{1}{n}\\sum_{i=0}^{n} x_i$$\n",
    "\n",
    "(Geometric mean) $$\\mu = (\\prod_{i=0}^{n} x_i)^{\\frac{1}{n}}$$\n",
    "\n"
   ]
  },
  {
   "cell_type": "code",
   "execution_count": null,
   "metadata": {
    "collapsed": false
   },
   "outputs": [],
   "source": [
    "# arithmetic mean example\n",
    "data = [1, 3, 5, 7, 9]\n",
    "# --------------------------\n",
    "mean = sum(data)/len(data)\n",
    "mean"
   ]
  },
  {
   "cell_type": "code",
   "execution_count": null,
   "metadata": {
    "collapsed": false
   },
   "outputs": [],
   "source": [
    "# geometric mean example\n",
    "data = [1, 3, 5, 7, 9]\n",
    "# --------------------------\n",
    "from numpy import prod\n",
    "mean = prod(data) ** (1/len(data))\n",
    "mean"
   ]
  },
  {
   "cell_type": "markdown",
   "metadata": {},
   "source": [
    "## Variance (rozptyl) and Standard deviation (směrodatná odchylka)\n",
    "\n",
    "- Variance is the average of the squared differences from the [Mean](#Statistics-fundations)\n",
    "- $\\sigma^2$ refers to a population mean and $s^2$, to a sample mean.\n",
    "- measures how far a set of numbers is \"spread out\"\n",
    "\n",
    "Variance (equally likely values) $$\\sigma^2 = \\frac{1}{n}\\sum_{i=0}^{n} (x^i - \\mu)^2$$\n",
    "\n",
    "\n",
    "- Standard deviation (STD) $s$ (or $\\sigma$ for whole set)\n",
    "- $\\sigma$ refers to the standard deviation of a population and $s$, to the standard deviation of a sample.\n",
    "- measures how far a set of numbers is \"spread out\" without power of 2 thus making result more sensible\n",
    "- in average whats is the spread of set from the mean\n",
    "\n",
    "\n",
    "STD $$\\sigma = \\sqrt{\\sigma^2} = \\sqrt{\\frac{1}{n}\\sum_{i=0}^{n} (x^i - \\mu)^2}$$"
   ]
  },
  {
   "cell_type": "code",
   "execution_count": null,
   "metadata": {
    "collapsed": false
   },
   "outputs": [],
   "source": [
    "# variance example\n",
    "data = [1, 2, 4, 8]\n",
    "# --------------------------\n",
    "n = len(data)\n",
    "mu = sum(data)/len(data)\n",
    "sum([(x_i - mu) ** 2. for x_i in data]) * (1.0/n)"
   ]
  },
  {
   "cell_type": "code",
   "execution_count": null,
   "metadata": {
    "collapsed": false
   },
   "outputs": [],
   "source": [
    "# standard deviation example\n",
    "data = [1, 2, 4, 8]\n",
    "# --------------------------\n",
    "from numpy import var, sqrt\n",
    "sigma = var(data)\n",
    "sqrt(sigma)"
   ]
  },
  {
   "cell_type": "markdown",
   "metadata": {},
   "source": [
    "## Quantiles (kvantily), quartile (kvartily), percentiles (percentily), median (medián)\n",
    "\n",
    "### Quantiles\n",
    " - quantile are dividing the range of a probability distribution into contiguous intervals with equal probabilities\n",
    "\n",
    "\n",
    "### Quartiles\n",
    " - first quartile $Q_1$ splits off the lowest 25% of data from the highest 75% (also called **lower quartile**)\n",
    " - second quartile $Q_2$ cuts data set in half (also called **median**)\n",
    " - trird quartile $Q_3$ splits off the highest 25% of data from the lowest 75% (also called **higher quartile**)\n",
    " \n",
    "### Percentiles\n",
    "  - percentiles with percentage resolution, indicating the *value* below which a given percentage of observations in a group of observations fall"
   ]
  },
  {
   "cell_type": "code",
   "execution_count": null,
   "metadata": {
    "collapsed": false
   },
   "outputs": [],
   "source": [
    "# Quantiles, quartiles and percentiles examples\n",
    "data = [1, 0, 0, 2, 2, 2, 3, 4, 4, 5, 5]\n",
    "percent = 0.25\n",
    "# ---------------------------------------------\n",
    "\n",
    "# function to compute quantile given data and p value\n",
    "def quantile(data, percent=0.25):\n",
    "    n = len(data)\n",
    "    sx = np.sort(data)\n",
    "    if n * percent == int(n * percent):\n",
    "        return (sx[int((n - 1) * percent)] + sx[int((n) * percent)]) / 2\n",
    "    return sx[int(n * percent)]\n",
    "\n",
    "print('Q1: %1.4f' % quantile(data, 0.25))\n",
    "print('Q2: %1.4f' % quantile(data, 0.50))\n",
    "print('Q3: %1.4f' % quantile(data, 0.75))"
   ]
  },
  {
   "cell_type": "markdown",
   "metadata": {},
   "source": [
    "## Mode (modus)\n",
    "\n",
    " - mode $Mod(X)$ is the most repeating element in set or data"
   ]
  },
  {
   "cell_type": "code",
   "execution_count": null,
   "metadata": {
    "collapsed": false
   },
   "outputs": [],
   "source": [
    "# mode example\n",
    "data = [1, 0, 0, 2, 2, 2, 3, 4, 4, 5, 5]\n",
    "# --------------------------\n",
    "def mode(data):\n",
    "    counts = np.bincount(data)\n",
    "    return np.argmax(counts)\n",
    "\n",
    "mode(data)"
   ]
  },
  {
   "cell_type": "markdown",
   "metadata": {},
   "source": [
    "## Comparison of mean, median and mode\n"
   ]
  },
  {
   "cell_type": "code",
   "execution_count": null,
   "metadata": {
    "collapsed": false
   },
   "outputs": [],
   "source": [
    "# Comparison of mean, median and mode\n",
    "data = [1, 2, 2, 3, 4, 7, 9]\n",
    "# --------------------------\n",
    "experiments = {\n",
    "    'mean': np.mean,\n",
    "    'median': np.median,\n",
    "    'mode': mode,\n",
    "    'min': min,\n",
    "    'max': max\n",
    "}\n",
    "# --------------------------\n",
    "# plot\n",
    "plt.figure(figsize=(20,10))\n",
    "plt.plot(range(len(data)), data, lw=2.5)\n",
    "plt.grid(True)\n",
    "\n",
    "# run experiments\n",
    "i = 0\n",
    "for name, method in experiments.items():\n",
    "    result = method(data)\n",
    "    i += 1\n",
    "    print('{:8s} {:1.2f}'.format(name, result))\n",
    "    if result in data:\n",
    "        positions = [x for x in range(len(data)) if data[x] == result]\n",
    "        xtext = np.mean(positions)\n",
    "        xtext = xtext +.25 if xtext < len(data)-1 else xtext - 0.5\n",
    "        \n",
    "        for position in positions:\n",
    "            #position = data.index(result)\n",
    "            ytext = result + 2 if result < max(data) else result - 2\n",
    "\n",
    "            plt.annotate(name,\n",
    "                    xy=(position, result), xycoords='data', size=20,\n",
    "                    xytext=(xtext, ytext), textcoords='data',\n",
    "                    arrowprops=dict(lw=0, color='k', headwidth=10, width=3),\n",
    "                    )"
   ]
  },
  {
   "cell_type": "markdown",
   "metadata": {
    "collapsed": false
   },
   "source": [
    "## Histogram\n",
    "\n",
    " - frequency of a variable in given interval (useful for larger data set or non-integer values in data set)"
   ]
  },
  {
   "cell_type": "code",
   "execution_count": null,
   "metadata": {
    "collapsed": false
   },
   "outputs": [],
   "source": [
    "plt.figure(figsize=(20,10))\n",
    "mu, sigma = 100, 15\n",
    "x = mu + sigma * np.random.randn(10000)\n",
    "\n",
    "# the histogram of the data\n",
    "n, bins, patches = plt.hist(x, 20, normed=1, facecolor='green', alpha=0.75)\n",
    "\n",
    "# add a 'best fit' line\n",
    "y = mlab.normpdf( bins, mu, sigma)\n",
    "l = plt.plot(bins, y, 'r--', linewidth=3.5)\n",
    "\n",
    "\n",
    "plt.xlabel('Smarts')\n",
    "plt.ylabel('Probability')\n",
    "plt.title(r'$\\mathrm{Histogram\\ of\\ IQ:}\\ \\mu=100,\\ \\sigma=15$')\n",
    "plt.axis([40, 160, 0, 0.03])\n",
    "plt.grid(True)\n",
    "plt.show()"
   ]
  },
  {
   "cell_type": "markdown",
   "metadata": {},
   "source": [
    "## (Cumulative) Distribution Function CDF\n",
    "\n",
    " - probability that that X (random variable) will be a value less than or equal to x\n",
    " - CDF for normal distribution:\n",
    "![Normal_Distribution_CDF](img/Normal_Distribution_CDF.png)\n",
    " \n",
    "### Poisson distribution\n",
    " - probability of a given number of events occurring in a fixed interval of time and/or space if these events occur with a known average rate and independently of the time since the last event\n",
    " - probability of distribution is:\n",
    "\n",
    "$$P(k) = \\frac{\\lambda^k e^{-\\lambda}}{k!}$$\n",
    "\n",
    "### Exponential distribution\n",
    " - he exponential distribution is used to model the time between the occurrence of events in an interval of time, or the distance between events in space\n",
    " - given by parameter $\\lambda$ (the rate parameter)\n",
    " - probability of distribution is:\n",
    "\n",
    "$$f(x) = \\lambda e^{-\\lambda x}$$\n",
    "\n",
    "### Gauss distribution (Normal distribution)\n",
    " - very common continuous probability distribution with so called \"bell curve\" shape\n",
    " - normal distribution have two parameters which specify bell shape:\n",
    " - $\\mu$ is the is mean or expectation of the distribution (and also its median and mode)\n",
    " - $\\sigma$ is standard deviation ($\\sigma^2$ then variance)\n",
    " - probability of distribution is:\n",
    "\n",
    "$$f(x \\; | \\; \\mu, \\sigma^2) = \\frac{1}{\\sqrt{2\\sigma^2\\pi} } \\; e^{ -\\frac{(x-\\mu)^2}{2\\sigma^2} }$$\n",
    "\n",
    "\n",
    "### Binomial distribution\n",
    " - number of successes in a sequence of $n$ independent yes/no experiments, each of which yields success with probability $p$ (parameters $n$ and $p$)\n",
    " - probability of distribution is:\n",
    "\n",
    "$$f(k;n,p) = \\Pr(X = k) = \\binom n k  p^k(1-p)^{n-k} = {\\frac{n!}{k!(n-k)!}p^k(1-p)^{n-k}}$$\n",
    "\n",
    "## Probability density function (PDF)\n",
    "\n",
    " - relative likelihood for X (random variable) to take on a given value\n",
    " - *unlike a probability, a probability density function can take on values greater than one*\n",
    " - PDF for normal distribution:\n",
    "![Normal_Distribution_PDF](img/Normal_Distribution_PDF.png)\n"
   ]
  }
 ],
 "metadata": {
  "kernelspec": {
   "display_name": "Python 3",
   "language": "python",
   "name": "python3"
  },
  "language_info": {
   "codemirror_mode": {
    "name": "ipython",
    "version": 3
   },
   "file_extension": ".py",
   "mimetype": "text/x-python",
   "name": "python",
   "nbconvert_exporter": "python",
   "pygments_lexer": "ipython3",
   "version": "3.4.3"
  }
 },
 "nbformat": 4,
 "nbformat_minor": 0
}
