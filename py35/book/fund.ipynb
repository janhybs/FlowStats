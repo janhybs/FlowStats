{
 "cells": [
  {
   "cell_type": "markdown",
   "metadata": {
    "collapsed": true
   },
   "source": [
    "# Selected methods in mathematical statistics - fundaments"
   ]
  },
  {
   "cell_type": "code",
   "execution_count": 1,
   "metadata": {
    "collapsed": false
   },
   "outputs": [],
   "source": [
    "import sys, os; sys.path.append(os.path.abspath(os.path.join(os.getcwd(), '..')))\n",
    "import numpy as np\n",
    "import matplotlib.mlab as mlab\n",
    "import matplotlib.pyplot as plt\n",
    "%precision 4\n",
    "%matplotlib inline\n",
    "# %matplotlib notebook"
   ]
  },
  {
   "cell_type": "markdown",
   "metadata": {
    "collapsed": true
   },
   "source": [
    "## Mean value (průměr)\n",
    "- Mean is sum of the sampled values divided by the number of items in the sample \n",
    "- $\\mu$ refers to a population mean and $\\bar{x}$, to a sample mean.\n",
    "\n",
    "(Arithmetic mean) $$\\mu = \\frac{1}{n}\\sum_{i=0}^{n} x_i$$\n",
    "\n",
    "(Geometric mean) $$\\mu = (\\prod_{i=0}^{n} x_i)^{\\frac{1}{n}}$$\n",
    "\n"
   ]
  },
  {
   "cell_type": "code",
   "execution_count": 2,
   "metadata": {
    "collapsed": false
   },
   "outputs": [
    {
     "data": {
      "text/plain": [
       "5.0000"
      ]
     },
     "execution_count": 2,
     "metadata": {},
     "output_type": "execute_result"
    }
   ],
   "source": [
    "# arithmetic mean example\n",
    "data = [1, 3, 5, 7, 9]\n",
    "# --------------------------\n",
    "mean = sum(data)/len(data)\n",
    "mean"
   ]
  },
  {
   "cell_type": "code",
   "execution_count": 3,
   "metadata": {
    "collapsed": false
   },
   "outputs": [
    {
     "data": {
      "text/plain": [
       "3.9363"
      ]
     },
     "execution_count": 3,
     "metadata": {},
     "output_type": "execute_result"
    }
   ],
   "source": [
    "# geometric mean example\n",
    "data = [1, 3, 5, 7, 9]\n",
    "# --------------------------\n",
    "from numpy import prod\n",
    "mean = prod(data) ** (1/len(data))\n",
    "mean"
   ]
  },
  {
   "cell_type": "markdown",
   "metadata": {},
   "source": [
    "## Variance (rozptyl) and Standard deviation (směrodatná odchylka)\n",
    "\n",
    "- Variance is the average of the squared differences from the [Mean](#Statistics-fundations)\n",
    "- $\\sigma^2$ refers to a population mean and $s^2$, to a sample mean.\n",
    "- measures how far a set of numbers is \"spread out\"\n",
    "\n",
    "Variance (equally likely values) $$\\sigma^2 = \\frac{1}{n}\\sum_{i=0}^{n} (x^i - \\mu)^2$$\n",
    "\n",
    "\n",
    "- Standard deviation (STD) $s$ (or $\\sigma$ for whole set)\n",
    "- $\\sigma$ refers to the standard deviation of a population and $s$, to the standard deviation of a sample.\n",
    "- measures how far a set of numbers is \"spread out\" without power of 2 thus making result more sensible\n",
    "- in average whats is the spread of set from the mean\n",
    "\n",
    "\n",
    "STD $$\\sigma = \\sqrt{\\sigma^2} = \\sqrt{\\frac{1}{n}\\sum_{i=0}^{n} (x^i - \\mu)^2}$$"
   ]
  },
  {
   "cell_type": "code",
   "execution_count": 4,
   "metadata": {
    "collapsed": false
   },
   "outputs": [
    {
     "data": {
      "text/plain": [
       "7.1875"
      ]
     },
     "execution_count": 4,
     "metadata": {},
     "output_type": "execute_result"
    }
   ],
   "source": [
    "# variance example\n",
    "data = [1, 2, 4, 8]\n",
    "# --------------------------\n",
    "n = len(data)\n",
    "mu = sum(data)/len(data)\n",
    "sum([(x_i - mu) ** 2. for x_i in data]) * (1.0/n)"
   ]
  },
  {
   "cell_type": "code",
   "execution_count": 5,
   "metadata": {
    "collapsed": false
   },
   "outputs": [
    {
     "data": {
      "text/plain": [
       "2.6810"
      ]
     },
     "execution_count": 5,
     "metadata": {},
     "output_type": "execute_result"
    }
   ],
   "source": [
    "# standard deviation example\n",
    "data = [1, 2, 4, 8]\n",
    "# --------------------------\n",
    "from numpy import var, sqrt\n",
    "sigma = var(data)\n",
    "sqrt(sigma)"
   ]
  },
  {
   "cell_type": "markdown",
   "metadata": {},
   "source": [
    "## Quantiles (kvantily), quartile (kvartily), percentiles (percentily), median (medián)\n",
    "\n",
    "### Quantiles\n",
    " - quantile are dividing the range of a probability distribution into contiguous intervals with equal probabilities\n",
    "\n",
    "\n",
    "### Quartiles\n",
    " - first quartile $Q_1$ splits off the lowest 25% of data from the highest 75% (also called **lower quartile**)\n",
    " - second quartile $Q_2$ cuts data set in half (also called **median**)\n",
    " - trird quartile $Q_3$ splits off the highest 25% of data from the lowest 75% (also called **higher quartile**)\n",
    " \n",
    "### Percentiles\n",
    "  - percentiles with percentage resolution, indicating the *value* below which a given percentage of observations in a group of observations fall"
   ]
  },
  {
   "cell_type": "code",
   "execution_count": 6,
   "metadata": {
    "collapsed": false
   },
   "outputs": [
    {
     "name": "stdout",
     "output_type": "stream",
     "text": [
      "Q1: 1.0000\n",
      "Q2: 2.0000\n",
      "Q3: 4.0000\n"
     ]
    }
   ],
   "source": [
    "# Quantiles, quartiles and percentiles examples\n",
    "data = [1, 0, 0, 2, 2, 2, 3, 4, 4, 5, 5]\n",
    "percent = 0.25\n",
    "# ---------------------------------------------\n",
    "\n",
    "# function to compute quantile given data and p value\n",
    "def quantile(data, percent=0.25):\n",
    "    n = len(data)\n",
    "    sx = np.sort(data)\n",
    "    if n * percent == int(n * percent):\n",
    "        return (sx[int((n - 1) * percent)] + sx[int((n) * percent)]) / 2\n",
    "    return sx[int(n * percent)]\n",
    "\n",
    "print('Q1: %1.4f' % quantile(data, 0.25))\n",
    "print('Q2: %1.4f' % quantile(data, 0.50))\n",
    "print('Q3: %1.4f' % quantile(data, 0.75))"
   ]
  },
  {
   "cell_type": "markdown",
   "metadata": {},
   "source": [
    "## Mode (modus)\n",
    "\n",
    " - mode $Mod(X)$ is the most repeating element in set or data"
   ]
  },
  {
   "cell_type": "code",
   "execution_count": 7,
   "metadata": {
    "collapsed": false
   },
   "outputs": [
    {
     "data": {
      "text/plain": [
       "2"
      ]
     },
     "execution_count": 7,
     "metadata": {},
     "output_type": "execute_result"
    }
   ],
   "source": [
    "# mode example\n",
    "data = [1, 0, 0, 2, 2, 2, 3, 4, 4, 5, 5]\n",
    "# --------------------------\n",
    "def mode(data):\n",
    "    counts = np.bincount(data)\n",
    "    return np.argmax(counts)\n",
    "\n",
    "mode(data)"
   ]
  },
  {
   "cell_type": "markdown",
   "metadata": {},
   "source": [
    "## Comparison of mean, median and mode\n"
   ]
  },
  {
   "cell_type": "code",
   "execution_count": 8,
   "metadata": {
    "collapsed": false
   },
   "outputs": [
    {
     "name": "stdout",
     "output_type": "stream",
     "text": [
      "max      9.00\n",
      "mean     4.00\n",
      "mode     2.00\n",
      "min      1.00\n",
      "median   3.00\n"
     ]
    },
    {
     "data": {
      "image/png": "[encoded data removed]",
      "text/plain": [
       "<matplotlib.figure.Figure at 0x6c41910>"
      ]
     },
     "metadata": {},
     "output_type": "display_data"
    }
   ],
   "source": [
    "# Comparison of mean, median and mode\n",
    "data = [1, 2, 2, 3, 4, 7, 9]\n",
    "# --------------------------\n",
    "experiments = {\n",
    "    'mean': np.mean,\n",
    "    'median': np.median,\n",
    "    'mode': mode,\n",
    "    'min': min,\n",
    "    'max': max\n",
    "}\n",
    "# --------------------------\n",
    "# plot\n",
    "plt.plot(range(len(data)), data)\n",
    "\n",
    "# run experiments\n",
    "i = 0\n",
    "for name, method in experiments.items():\n",
    "    result = int(method(data))\n",
    "    i += 1\n",
    "    print('{:8s} {:1.2f}'.format(name, result))\n",
    "    if result in data:\n",
    "        position = data.index(result)\n",
    "        ytext = result + 2 if result < max(data) else result - 2\n",
    "        xtext = position - 1\n",
    "\n",
    "        plt.annotate(name,\n",
    "                xy=(position, result), xycoords='data',\n",
    "                xytext=(xtext, ytext), textcoords='data',\n",
    "                arrowprops=dict(arrowstyle=\"->\", connectionstyle=\"arc3\"),\n",
    "                )"
   ]
  },
  {
   "cell_type": "markdown",
   "metadata": {
    "collapsed": false
   },
   "source": [
    "## Histogram\n",
    "\n",
    " - frequency of a variable in given interval (useful for larger data set or non-integer values in data set)"
   ]
  },
  {
   "cell_type": "code",
   "execution_count": 9,
   "metadata": {
    "collapsed": false
   },
   "outputs": [
    {
     "data": {
      "image/png": "[encoded data removed]",
      "text/plain": [
       "<matplotlib.figure.Figure at 0x6c957b0>"
      ]
     },
     "metadata": {},
     "output_type": "display_data"
    }
   ],
   "source": [
    "mu, sigma = 100, 15\n",
    "x = mu + sigma * np.random.randn(10000)\n",
    "\n",
    "# the histogram of the data\n",
    "n, bins, patches = plt.hist(x, 20, normed=1, facecolor='green', alpha=0.75)\n",
    "\n",
    "# add a 'best fit' line\n",
    "y = mlab.normpdf( bins, mu, sigma)\n",
    "l = plt.plot(bins, y, 'r--', linewidth=1)\n",
    "\n",
    "plt.xlabel('Smarts')\n",
    "plt.ylabel('Probability')\n",
    "plt.title(r'$\\mathrm{Histogram\\ of\\ IQ:}\\ \\mu=100,\\ \\sigma=15$')\n",
    "plt.axis([40, 160, 0, 0.03])\n",
    "plt.grid(True)\n",
    "plt.show()"
   ]
  }
 ],
 "metadata": {
  "kernelspec": {
   "display_name": "Python 3",
   "language": "python",
   "name": "python3"
  },
  "language_info": {
   "codemirror_mode": {
    "name": "ipython",
    "version": 3
   },
   "file_extension": ".py",
   "mimetype": "text/x-python",
   "name": "python",
   "nbconvert_exporter": "python",
   "pygments_lexer": "ipython3",
   "version": "3.5.1"
  }
 },
 "nbformat": 4,
 "nbformat_minor": 0
}
