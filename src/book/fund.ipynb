{
 "cells": [
  {
   "cell_type": "markdown",
   "metadata": {
    "collapsed": true
   },
   "source": [
    "# Selected methods in mathematical statistics"
   ]
  },
  {
   "cell_type": "code",
   "execution_count": 1,
   "metadata": {
    "collapsed": false
   },
   "outputs": [],
   "source": [
    "import sys; sys.path.append('/home/jan-hybs/Dokumenty/FlowStats/src');\n",
    "%precision 4\n",
    "%matplotlib inline\n",
    "# %matplotlib notebook"
   ]
  },
  {
   "cell_type": "markdown",
   "metadata": {
    "collapsed": true
   },
   "source": [
    "## Statistics fundations\n",
    "\n",
    "### Mean value\n",
    "- Mean is sum of the sampled values divided by the number of items in the sample \n",
    "- $\\mu$ refers to a population mean and $\\bar{x}$, to a sample mean.\n",
    "\n",
    "(Arithmetic mean) $$\\mu = \\frac{1}{n}\\sum_{i=0}^{n} x_i$$\n",
    "(Geometric mean) $$\\mu = (\\prod_{i=0}^{n} x_i)^{\\frac{1}{n}}$$\n",
    "\n"
   ]
  },
  {
   "cell_type": "code",
   "execution_count": 2,
   "metadata": {
    "collapsed": false
   },
   "outputs": [
    {
     "data": {
      "text/plain": [
       "5.0000"
      ]
     },
     "execution_count": 2,
     "metadata": {},
     "output_type": "execute_result"
    }
   ],
   "source": [
    "# Arithmetic mean example\n",
    "data = [1, 3, 5, 7, 9]\n",
    "mean = sum(data)/len(data)\n",
    "mean"
   ]
  },
  {
   "cell_type": "code",
   "execution_count": 3,
   "metadata": {
    "collapsed": false
   },
   "outputs": [
    {
     "data": {
      "text/plain": [
       "3.9363"
      ]
     },
     "execution_count": 3,
     "metadata": {},
     "output_type": "execute_result"
    }
   ],
   "source": [
    "# Geometric mean example\n",
    "from numpy import prod\n",
    "data = [1, 3, 5, 7, 9]\n",
    "mean = prod(data) ** (1/len(data))\n",
    "mean"
   ]
  },
  {
   "cell_type": "markdown",
   "metadata": {},
   "source": [
    "### Variance and Standard deviation\n",
    "\n",
    "- Variance is the average of the squared differences from the [Mean](#Mean-value)\n",
    "- $\\sigma^2$ refers to a population mean and $s^2$, to a sample mean.\n",
    "- measures how far a set of numbers is \"spread out\"\n",
    "\n",
    "Variance (equally likely values) $$\\sigma^2 = \\frac{1}{n}\\sum_{i=0}^{n} (x^i - \\mu)^2$$\n",
    "\n",
    "\n",
    "- Standard deviation (STD) $s$ (or $\\sigma$ for whole set)\n",
    "- $\\sigma$ refers to the standard deviation of a population and $s$, to the standard deviation of a sample.\n",
    "- measures how far a set of numbers is \"spread out\" without power of 2 thus making result more sensible\n",
    "- in average whats is the spread of set from the mean\n",
    "\n",
    "\n",
    "STD $$\\sigma = \\sqrt{\\sigma^2} = \\sqrt{\\frac{1}{n}\\sum_{i=0}^{n} (x^i - \\mu)^2}$$"
   ]
  },
  {
   "cell_type": "code",
   "execution_count": 4,
   "metadata": {
    "collapsed": false
   },
   "outputs": [
    {
     "data": {
      "text/plain": [
       "7.1875"
      ]
     },
     "execution_count": 4,
     "metadata": {},
     "output_type": "execute_result"
    }
   ],
   "source": [
    "# Variance\n",
    "data = [1, 2, 4, 8]\n",
    "n = len(data)\n",
    "mu = sum(data)/len(data)\n",
    "sum([(x_i - mu) ** 2. for x_i in data]) * (1.0/n)"
   ]
  },
  {
   "cell_type": "code",
   "execution_count": 5,
   "metadata": {
    "collapsed": false
   },
   "outputs": [
    {
     "data": {
      "text/plain": [
       "2.6810"
      ]
     },
     "execution_count": 5,
     "metadata": {},
     "output_type": "execute_result"
    }
   ],
   "source": [
    "# STD\n",
    "from numpy import var, sqrt\n",
    "data = [1, 2, 4, 8]\n",
    "sigma = var(data)\n",
    "sqrt(sigma)"
   ]
  },
  {
   "cell_type": "code",
   "execution_count": 6,
   "metadata": {
    "collapsed": false
   },
   "outputs": [
    {
     "data": {
      "image/png": "[encoded data removed]",
      "text/plain": [
       "<matplotlib.figure.Figure at 0x7f0328872ba8>"
      ]
     },
     "metadata": {},
     "output_type": "display_data"
    }
   ],
   "source": [
    "import matplotlib.pyplot as plt\n",
    "import numpy as np\n",
    "x = np.linspace(0, 3*np.pi, 500)\n",
    "plt.plot(x, np.sin(x**2))\n",
    "plt.title('A simple chirp');\n",
    "\n"
   ]
  },
  {
   "cell_type": "code",
   "execution_count": 7,
   "metadata": {
    "collapsed": false
   },
   "outputs": [
    {
     "data": {
      "image/png": "[encoded data removed]",
      "text/plain": [
       "<matplotlib.figure.Figure at 0x7f03285cb160>"
      ]
     },
     "metadata": {},
     "output_type": "display_data"
    }
   ],
   "source": [
    "import numpy as np\n",
    "import matplotlib.mlab as mlab\n",
    "import matplotlib.pyplot as plt\n",
    "\n",
    "mu, sigma = 100, 15\n",
    "x = mu + sigma * np.random.randn(10000)\n",
    "\n",
    "# the histogram of the data\n",
    "n, bins, patches = plt.hist(x, 20, normed=1, facecolor='green', alpha=0.75)\n",
    "\n",
    "# add a 'best fit' line\n",
    "y = mlab.normpdf( bins, mu, sigma)\n",
    "l = plt.plot(bins, y, 'r--', linewidth=1)\n",
    "\n",
    "plt.xlabel('Smarts')\n",
    "plt.ylabel('Probability')\n",
    "plt.title(r'$\\mathrm{Histogram\\ of\\ IQ:}\\ \\mu=100,\\ \\sigma=15$')\n",
    "plt.axis([40, 160, 0, 0.03])\n",
    "plt.grid(True)\n",
    "plt.show()\n"
   ]
  },
  {
   "cell_type": "code",
   "execution_count": null,
   "metadata": {
    "collapsed": true
   },
   "outputs": [],
   "source": []
  }
 ],
 "metadata": {
  "kernelspec": {
   "display_name": "Python 3",
   "language": "python",
   "name": "python3"
  },
  "language_info": {
   "codemirror_mode": {
    "name": "ipython",
    "version": 3
   },
   "file_extension": ".py",
   "mimetype": "text/x-python",
   "name": "python",
   "nbconvert_exporter": "python",
   "pygments_lexer": "ipython3",
   "version": "3.4.3"
  }
 },
 "nbformat": 4,
 "nbformat_minor": 0
}
